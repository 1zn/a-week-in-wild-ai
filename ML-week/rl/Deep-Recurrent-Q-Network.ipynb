{
  "cells": [
    {
      "metadata": {},
      "cell_type": "markdown",
      "source": "# Deep Recurrent Q-Network \nThis notebook provides an example implementation of a Deep Recurrent Q-Network which can solve Partially Observable Markov Decision Processes. To learn more about DRQNs, see my blog post on them here: https://medium.com/p/68463e9aeefc .\n\nFor more reinforcment learning tutorials, as well as the additional required `gridworld.py` and `helper.py` see:\nhttps://github.com/awjuliani/DeepRL-Agents"
    },
    {
      "metadata": {
        "trusted": false
      },
      "cell_type": "code",
      "source": "import numpy as np\nimport random\nimport tensorflow as tf\nimport matplotlib.pyplot as plt\nimport scipy.misc\nimport os\nimport csv\nimport itertools\nimport tensorflow.contrib.slim as slim\n%matplotlib inline\n\nfrom helper import *",
      "execution_count": null,
      "outputs": []
    },
    {
      "metadata": {},
      "cell_type": "markdown",
      "source": "### Load the game environment"
    },
    {
      "metadata": {
        "collapsed": true,
        "trusted": false
      },
      "cell_type": "code",
      "source": "from gridworld import gameEnv",
      "execution_count": null,
      "outputs": []
    },
    {
      "metadata": {},
      "cell_type": "markdown",
      "source": "Feel free to adjust the size of the gridworld. Making it smaller (adjusting `size`) provides an easier task for our DRQN agent, while making the world larger increases the challenge.\n\nInitializing the Gridworld with `True` limits the field of view, resulting in a partially observable MDP. Initializing it with `False` provides the agent with the entire environment, resulting in a fully MDP."
    },
    {
      "metadata": {
        "trusted": false
      },
      "cell_type": "code",
      "source": "env = gameEnv(partial=False,size=9)",
      "execution_count": null,
      "outputs": []
    },
    {
      "metadata": {
        "trusted": false
      },
      "cell_type": "code",
      "source": "env = gameEnv(partial=True,size=9)",
      "execution_count": null,
      "outputs": []
    },
    {
      "metadata": {},
      "cell_type": "markdown",
      "source": "Above are examples of a starting environment in our simple game. The agent controls the blue square, and can move up, down, left, or right. The goal is to move to the green squares (for +1 reward) and avoid the red squares (for -1 reward). When the agent moves through a green or red square, it is randomly moved to a new place in the environment."
    },
    {
      "metadata": {},
      "cell_type": "markdown",
      "source": "### Implementing the network itself"
    },
    {
      "metadata": {
        "trusted": false
      },
      "cell_type": "code",
      "source": "class Qnetwork():\n    def __init__(self,h_size,rnn_cell,myScope):\n        #The network recieves a frame from the game, flattened into an array.\n        #It then resizes it and processes it through four convolutional layers.\n        self.scalarInput =  tf.placeholder(shape=[None,21168],dtype=tf.float32)\n        self.imageIn = tf.reshape(self.scalarInput,shape=[-1,84,84,3])\n        self.conv1 = slim.convolution2d( \\\n            inputs=self.imageIn,num_outputs=32,\\\n            kernel_size=[8,8],stride=[4,4],padding='VALID', \\\n            biases_initializer=None,scope=myScope+'_conv1')\n        self.conv2 = slim.convolution2d( \\\n            inputs=self.conv1,num_outputs=64,\\\n            kernel_size=[4,4],stride=[2,2],padding='VALID', \\\n            biases_initializer=None,scope=myScope+'_conv2')\n        self.conv3 = slim.convolution2d( \\\n            inputs=self.conv2,num_outputs=64,\\\n            kernel_size=[3,3],stride=[1,1],padding='VALID', \\\n            biases_initializer=None,scope=myScope+'_conv3')\n        self.conv4 = slim.convolution2d( \\\n            inputs=self.conv3,num_outputs=h_size,\\\n            kernel_size=[7,7],stride=[1,1],padding='VALID', \\\n            biases_initializer=None,scope=myScope+'_conv4')\n        \n        self.trainLength = tf.placeholder(dtype=tf.int32)\n        #We take the output from the final convolutional layer and send it to a recurrent layer.\n        #The input must be reshaped into [batch x trace x units] for rnn processing, \n        #and then returned to [batch x units] when sent through the upper levles.\n        self.batch_size = tf.placeholder(dtype=tf.int32,shape=[])\n        self.convFlat = tf.reshape(slim.flatten(self.conv4),[self.batch_size,self.trainLength,h_size])\n        self.state_in = rnn_cell.zero_state(self.batch_size, tf.float32)\n        self.rnn,self.rnn_state = tf.nn.dynamic_rnn(\\\n                inputs=self.convFlat,cell=rnn_cell,dtype=tf.float32,initial_state=self.state_in,scope=myScope+'_rnn')\n        self.rnn = tf.reshape(self.rnn,shape=[-1,h_size])\n        #The output from the recurrent player is then split into separate Value and Advantage streams\n        self.streamA,self.streamV = tf.split(self.rnn,2,1)\n        self.AW = tf.Variable(tf.random_normal([h_size//2,4]))\n        self.VW = tf.Variable(tf.random_normal([h_size//2,1]))\n        self.Advantage = tf.matmul(self.streamA,self.AW)\n        self.Value = tf.matmul(self.streamV,self.VW)\n        \n        self.salience = tf.gradients(self.Advantage,self.imageIn)\n        #Then combine them together to get our final Q-values.\n        self.Qout = self.Value + tf.subtract(self.Advantage,tf.reduce_mean(self.Advantage,axis=1,keep_dims=True))\n        self.predict = tf.argmax(self.Qout,1)\n        \n        #Below we obtain the loss by taking the sum of squares difference between the target and prediction Q values.\n        self.targetQ = tf.placeholder(shape=[None],dtype=tf.float32)\n        self.actions = tf.placeholder(shape=[None],dtype=tf.int32)\n        self.actions_onehot = tf.one_hot(self.actions,4,dtype=tf.float32)\n        \n        self.Q = tf.reduce_sum(tf.multiply(self.Qout, self.actions_onehot), axis=1)\n        \n        self.td_error = tf.square(self.targetQ - self.Q)\n        \n        #In order to only propogate accurate gradients through the network, we will mask the first\n        #half of the losses for each trace as per Lample & Chatlot 2016\n        self.maskA = tf.zeros([self.batch_size,self.trainLength//2])\n        self.maskB = tf.ones([self.batch_size,self.trainLength//2])\n        self.mask = tf.concat([self.maskA,self.maskB],1)\n        self.mask = tf.reshape(self.mask,[-1])\n        self.loss = tf.reduce_mean(self.td_error * self.mask)\n        \n        self.trainer = tf.train.AdamOptimizer(learning_rate=0.0001)\n        self.updateModel = self.trainer.minimize(self.loss)",
      "execution_count": null,
      "outputs": []
    },
    {
      "metadata": {},
      "cell_type": "markdown",
      "source": "### Experience Replay"
    },
    {
      "metadata": {},
      "cell_type": "markdown",
      "source": "These classes allow us to store experies and sample then randomly to train the network.\nEpisode buffer stores experiences for each individal episode.\nExperience buffer stores entire episodes of experience, and sample() allows us to get training batches needed from the network."
    },
    {
      "metadata": {
        "trusted": false
      },
      "cell_type": "code",
      "source": "class experience_buffer():\n    def __init__(self, buffer_size = 1000):\n        self.buffer = []\n        self.buffer_size = buffer_size\n    \n    def add(self,experience):\n        if len(self.buffer) + 1 >= self.buffer_size:\n            self.buffer[0:(1+len(self.buffer))-self.buffer_size] = []\n        self.buffer.append(experience)\n            \n    def sample(self,batch_size,trace_length):\n        sampled_episodes = random.sample(self.buffer,batch_size)\n        sampledTraces = []\n        for episode in sampled_episodes:\n            point = np.random.randint(0,len(episode)+1-trace_length)\n            sampledTraces.append(episode[point:point+trace_length])\n        sampledTraces = np.array(sampledTraces)\n        return np.reshape(sampledTraces,[batch_size*trace_length,5])",
      "execution_count": null,
      "outputs": []
    },
    {
      "metadata": {},
      "cell_type": "markdown",
      "source": "### Training the network"
    },
    {
      "metadata": {
        "collapsed": true,
        "trusted": false
      },
      "cell_type": "code",
      "source": "#Setting the training parameters\nbatch_size = 4 #How many experience traces to use for each training step.\ntrace_length = 8 #How long each experience trace will be when training\nupdate_freq = 5 #How often to perform a training step.\ny = .99 #Discount factor on the target Q-values\nstartE = 1 #Starting chance of random action\nendE = 0.1 #Final chance of random action\nanneling_steps = 10000 #How many steps of training to reduce startE to endE.\nnum_episodes = 10000 #How many episodes of game environment to train network with.\npre_train_steps = 10000 #How many steps of random actions before training begins.\nload_model = False #Whether to load a saved model.\npath = \"./drqn\" #The path to save our model to.\nh_size = 512 #The size of the final convolutional layer before splitting it into Advantage and Value streams.\nmax_epLength = 50 #The max allowed length of our episode.\ntime_per_step = 1 #Length of each step used in gif creation\nsummaryLength = 100 #Number of epidoes to periodically save for analysis\ntau = 0.001",
      "execution_count": null,
      "outputs": []
    },
    {
      "metadata": {
        "scrolled": true,
        "trusted": false
      },
      "cell_type": "code",
      "source": "tf.reset_default_graph()\n#We define the cells for the primary and target q-networks\ncell = tf.contrib.rnn.BasicLSTMCell(num_units=h_size,state_is_tuple=True)\ncellT = tf.contrib.rnn.BasicLSTMCell(num_units=h_size,state_is_tuple=True)\nmainQN = Qnetwork(h_size,cell,'main')\ntargetQN = Qnetwork(h_size,cellT,'target')\n\ninit = tf.global_variables_initializer()\n\nsaver = tf.train.Saver(max_to_keep=5)\n\ntrainables = tf.trainable_variables()\n\ntargetOps = updateTargetGraph(trainables,tau)\n\nmyBuffer = experience_buffer()\n\n#Set the rate of random action decrease. \ne = startE\nstepDrop = (startE - endE)/anneling_steps\n\n#create lists to contain total rewards and steps per episode\njList = []\nrList = []\ntotal_steps = 0\n\n#Make a path for our model to be saved in.\nif not os.path.exists(path):\n    os.makedirs(path)\n\n##Write the first line of the master log-file for the Control Center\nwith open('./Center/log.csv', 'w') as myfile:\n    wr = csv.writer(myfile, quoting=csv.QUOTE_ALL)\n    wr.writerow(['Episode','Length','Reward','IMG','LOG','SAL'])    \n  \n\nwith tf.Session() as sess:\n    if load_model == True:\n        print ('Loading Model...')\n        ckpt = tf.train.get_checkpoint_state(path)\n        saver.restore(sess,ckpt.model_checkpoint_path)\n    sess.run(init)\n   \n    updateTarget(targetOps,sess) #Set the target network to be equal to the primary network.\n    for i in range(num_episodes):\n        episodeBuffer = []\n        #Reset environment and get first new observation\n        sP = env.reset()\n        s = processState(sP)\n        d = False\n        rAll = 0\n        j = 0\n        state = (np.zeros([1,h_size]),np.zeros([1,h_size])) #Reset the recurrent layer's hidden state\n        #The Q-Network\n        while j < max_epLength: \n            j+=1\n            #Choose an action by greedily (with e chance of random action) from the Q-network\n            if np.random.rand(1) < e or total_steps < pre_train_steps:\n                state1 = sess.run(mainQN.rnn_state,\\\n                    feed_dict={mainQN.scalarInput:[s/255.0],mainQN.trainLength:1,mainQN.state_in:state,mainQN.batch_size:1})\n                a = np.random.randint(0,4)\n            else:\n                a, state1 = sess.run([mainQN.predict,mainQN.rnn_state],\\\n                    feed_dict={mainQN.scalarInput:[s/255.0],mainQN.trainLength:1,mainQN.state_in:state,mainQN.batch_size:1})\n                a = a[0]\n            s1P,r,d = env.step(a)\n            s1 = processState(s1P)\n            total_steps += 1\n            episodeBuffer.append(np.reshape(np.array([s,a,r,s1,d]),[1,5]))\n            if total_steps > pre_train_steps:\n                if e > endE:\n                    e -= stepDrop\n\n                if total_steps % (update_freq) == 0:\n                    updateTarget(targetOps,sess)\n                    #Reset the recurrent layer's hidden state\n                    state_train = (np.zeros([batch_size,h_size]),np.zeros([batch_size,h_size])) \n                    \n                    trainBatch = myBuffer.sample(batch_size,trace_length) #Get a random batch of experiences.\n                    #Below we perform the Double-DQN update to the target Q-values\n                    Q1 = sess.run(mainQN.predict,feed_dict={\\\n                        mainQN.scalarInput:np.vstack(trainBatch[:,3]/255.0),\\\n                        mainQN.trainLength:trace_length,mainQN.state_in:state_train,mainQN.batch_size:batch_size})\n                    Q2 = sess.run(targetQN.Qout,feed_dict={\\\n                        targetQN.scalarInput:np.vstack(trainBatch[:,3]/255.0),\\\n                        targetQN.trainLength:trace_length,targetQN.state_in:state_train,targetQN.batch_size:batch_size})\n                    end_multiplier = -(trainBatch[:,4] - 1)\n                    doubleQ = Q2[range(batch_size*trace_length),Q1]\n                    targetQ = trainBatch[:,2] + (y*doubleQ * end_multiplier)\n                    #Update the network with our target values.\n                    sess.run(mainQN.updateModel, \\\n                        feed_dict={mainQN.scalarInput:np.vstack(trainBatch[:,0]/255.0),mainQN.targetQ:targetQ,\\\n                        mainQN.actions:trainBatch[:,1],mainQN.trainLength:trace_length,\\\n                        mainQN.state_in:state_train,mainQN.batch_size:batch_size})\n            rAll += r\n            s = s1\n            sP = s1P\n            state = state1\n            if d == True:\n\n                break\n\n        #Add the episode to the experience buffer\n        bufferArray = np.array(episodeBuffer)\n        episodeBuffer = list(zip(bufferArray))\n        myBuffer.add(episodeBuffer)\n        jList.append(j)\n        rList.append(rAll)\n\n        #Periodically save the model. \n        if i % 1000 == 0 and i != 0:\n            saver.save(sess,path+'/model-'+str(i)+'.cptk')\n            print (\"Saved Model\")\n        if len(rList) % summaryLength == 0 and len(rList) != 0:\n            print (total_steps,np.mean(rList[-summaryLength:]), e)\n            saveToCenter(i,rList,jList,np.reshape(np.array(episodeBuffer),[len(episodeBuffer),5]),\\\n                summaryLength,h_size,sess,mainQN,time_per_step)\n    saver.save(sess,path+'/model-'+str(i)+'.cptk')",
      "execution_count": null,
      "outputs": []
    },
    {
      "metadata": {
        "collapsed": true
      },
      "cell_type": "markdown",
      "source": "### Testing the network"
    },
    {
      "metadata": {
        "collapsed": true,
        "trusted": false
      },
      "cell_type": "code",
      "source": "e = 0.01 #The chance of chosing a random action\nnum_episodes = 10000 #How many episodes of game environment to train network with.\nload_model = True #Whether to load a saved model.\npath = \"./drqn\" #The path to save/load our model to/from.\nh_size = 512 #The size of the final convolutional layer before splitting it into Advantage and Value streams.\nh_size = 512 #The size of the final convolutional layer before splitting it into Advantage and Value streams.\nmax_epLength = 50 #The max allowed length of our episode.\ntime_per_step = 1 #Length of each step used in gif creation\nsummaryLength = 100 #Number of epidoes to periodically save for analysis",
      "execution_count": null,
      "outputs": []
    },
    {
      "metadata": {
        "trusted": false
      },
      "cell_type": "code",
      "source": "tf.reset_default_graph()\ncell = tf.contrib.rnn.BasicLSTMCell(num_units=h_size,state_is_tuple=True)\ncellT = tf.contrib.rnn.BasicLSTMCell(num_units=h_size,state_is_tuple=True)\nmainQN = Qnetwork(h_size,cell,'main')\ntargetQN = Qnetwork(h_size,cellT,'target')\n\ninit = tf.global_variables_initializer()\n\nsaver = tf.train.Saver(max_to_keep=2)\n\n#create lists to contain total rewards and steps per episode\njList = []\nrList = []\ntotal_steps = 0\n\n#Make a path for our model to be saved in.\nif not os.path.exists(path):\n    os.makedirs(path)\n\n##Write the first line of the master log-file for the Control Center\nwith open('./Center/log.csv', 'w') as myfile:\n    wr = csv.writer(myfile, quoting=csv.QUOTE_ALL)\n    wr.writerow(['Episode','Length','Reward','IMG','LOG','SAL'])    \n    \n    #wr = csv.writer(open('./Center/log.csv', 'a'), quoting=csv.QUOTE_ALL)\nwith tf.Session() as sess:\n    if load_model == True:\n        print ('Loading Model...')\n        ckpt = tf.train.get_checkpoint_state(path)\n        saver.restore(sess,ckpt.model_checkpoint_path)\n    else:\n        sess.run(init)\n\n        \n    for i in range(num_episodes):\n        episodeBuffer = []\n        #Reset environment and get first new observation\n        sP = env.reset()\n        s = processState(sP)\n        d = False\n        rAll = 0\n        j = 0\n        state = (np.zeros([1,h_size]),np.zeros([1,h_size]))\n        #The Q-Network\n        while j < max_epLength: #If the agent takes longer than 200 moves to reach either of the blocks, end the trial.\n            j+=1\n            #Choose an action by greedily (with e chance of random action) from the Q-network\n            if np.random.rand(1) < e:\n                state1 = sess.run(mainQN.rnn_state,\\\n                    feed_dict={mainQN.scalarInput:[s/255.0],mainQN.trainLength:1,mainQN.state_in:state,mainQN.batch_size:1})\n                a = np.random.randint(0,4)\n            else:\n                a, state1 = sess.run([mainQN.predict,mainQN.rnn_state],\\\n                    feed_dict={mainQN.scalarInput:[s/255.0],mainQN.trainLength:1,\\\n                    mainQN.state_in:state,mainQN.batch_size:1})\n                a = a[0]\n            s1P,r,d = env.step(a)\n            s1 = processState(s1P)\n            total_steps += 1\n            episodeBuffer.append(np.reshape(np.array([s,a,r,s1,d]),[1,5])) #Save the experience to our episode buffer.\n            rAll += r\n            s = s1\n            sP = s1P\n            state = state1\n            if d == True:\n\n                break\n\n        bufferArray = np.array(episodeBuffer)\n        jList.append(j)\n        rList.append(rAll)\n\n        #Periodically save the model. \n        if len(rList) % summaryLength == 0 and len(rList) != 0:\n            print (total_steps,np.mean(rList[-summaryLength:]), e)\n            saveToCenter(i,rList,jList,np.reshape(np.array(episodeBuffer),[len(episodeBuffer),5]),\\\n                summaryLength,h_size,sess,mainQN,time_per_step)\nprint (\"Percent of succesful episodes: \" + str(sum(rList)/num_episodes) + \"%\")",
      "execution_count": null,
      "outputs": []
    }
  ],
  "metadata": {
    "kernelspec": {
      "name": "python2",
      "display_name": "Python 2",
      "language": "python"
    },
    "language_info": {
      "mimetype": "text/x-python",
      "nbconvert_exporter": "python",
      "name": "python",
      "pygments_lexer": "ipython2",
      "version": "2.7.14",
      "file_extension": ".py",
      "codemirror_mode": {
        "version": 2,
        "name": "ipython"
      }
    }
  },
  "nbformat": 4,
  "nbformat_minor": 1
}