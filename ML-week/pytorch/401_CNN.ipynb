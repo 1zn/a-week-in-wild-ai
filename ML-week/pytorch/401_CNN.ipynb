{
  "cells": [
    {
      "metadata": {},
      "cell_type": "markdown",
      "source": "# 401 CNN\n\nView more, visit my tutorial page: https://morvanzhou.github.io/tutorials/\nMy Youtube Channel: https://www.youtube.com/user/MorvanZhou\n\nDependencies:\n* torch: 0.1.11\n* torchvision\n* matplotlib"
    },
    {
      "metadata": {
        "trusted": true
      },
      "cell_type": "code",
      "source": "import platform\nprint(platform.python_version())\n\n%load_ext watermark\n%watermark -a 'Gopala KR' -u -d -v -p watermark,numpy,pandas,scipy,scikit-learn,matplotlib,torch,tensorflow",
      "execution_count": 1,
      "outputs": [
        {
          "output_type": "stream",
          "text": "3.5.4\n",
          "name": "stdout"
        },
        {
          "output_type": "stream",
          "text": "/home/nbuser/anaconda3_420/lib/python3.5/site-packages/watermark/watermark.py:155: DeprecationWarning: Importing scikit-learn as `scikit-learn` has been depracated and will not be supported anymore in v1.7.0. Please use the package name `sklearn` instead.\n  DeprecationWarning)\n",
          "name": "stderr"
        },
        {
          "output_type": "stream",
          "text": "Gopala KR \nlast updated: 2018-09-23 \n\nCPython 3.5.4\nIPython 6.2.1\n\nwatermark 1.6.1\nnumpy 1.15.1\npandas 0.19.2\nscipy 1.1.0\nscikit-learn 0.19.1\nmatplotlib 2.1.1\ntorch 0.4.1\ntensorflow 1.1.0\n",
          "name": "stdout"
        }
      ]
    },
    {
      "metadata": {
        "trusted": true
      },
      "cell_type": "code",
      "source": "import torch\nimport torch.nn as nn\nfrom torch.autograd import Variable\nimport torch.utils.data as Data\nimport torchvision\nimport matplotlib.pyplot as plt\n%matplotlib inline",
      "execution_count": 2,
      "outputs": [
        {
          "output_type": "stream",
          "text": "/home/nbuser/anaconda3_420/lib/python3.5/site-packages/urllib3/contrib/pyopenssl.py:46: DeprecationWarning: OpenSSL.rand is deprecated - you should use os.urandom instead\n  import OpenSSL.SSL\n/home/nbuser/anaconda3_420/lib/python3.5/site-packages/urllib3/contrib/pyopenssl.py:51: DeprecationWarning: UnsupportedExtension is no longer necessary, it is never raised\n  from cryptography.x509 import UnsupportedExtension\n/home/nbuser/anaconda3_420/lib/python3.5/site-packages/urllib3/contrib/pyopenssl.py:51: DeprecationWarning: UnsupportedExtension is no longer necessary, it is never raised\n  from cryptography.x509 import UnsupportedExtension\n",
          "name": "stderr"
        }
      ]
    },
    {
      "metadata": {
        "trusted": true
      },
      "cell_type": "code",
      "source": "torch.manual_seed(1)    # reproducible",
      "execution_count": 3,
      "outputs": [
        {
          "output_type": "execute_result",
          "execution_count": 3,
          "data": {
            "text/plain": "<torch._C.Generator at 0x7fbede1b3370>"
          },
          "metadata": {}
        }
      ]
    },
    {
      "metadata": {
        "trusted": true
      },
      "cell_type": "code",
      "source": "# Hyper Parameters\nEPOCH = 1               # train the training data n times, to save time, we just train 1 epoch\nBATCH_SIZE = 50\nLR = 0.001              # learning rate\nDOWNLOAD_MNIST = True   # set to False if you have downloaded",
      "execution_count": 4,
      "outputs": []
    },
    {
      "metadata": {
        "trusted": true
      },
      "cell_type": "code",
      "source": "# Mnist digits dataset\ntrain_data = torchvision.datasets.MNIST(\n    root='./mnist/',\n    train=True,                                     # this is training data\n    transform=torchvision.transforms.ToTensor(),    # Converts a PIL.Image or numpy.ndarray to\n                                                    # torch.FloatTensor of shape (C x H x W) and normalize in the range [0.0, 1.0]\n    download=DOWNLOAD_MNIST,                        # download it if you don't have it\n)",
      "execution_count": 5,
      "outputs": []
    },
    {
      "metadata": {
        "trusted": true
      },
      "cell_type": "code",
      "source": "# plot one example\nprint(train_data.train_data.size())                 # (60000, 28, 28)\nprint(train_data.train_labels.size())               # (60000)\nplt.imshow(train_data.train_data[0].numpy(), cmap='gray')\nplt.title('%i' % train_data.train_labels[0])\nplt.show()",
      "execution_count": 6,
      "outputs": [
        {
          "output_type": "stream",
          "text": "torch.Size([60000, 28, 28])\ntorch.Size([60000])\n",
          "name": "stdout"
        },
        {
          "output_type": "display_data",
          "data": {
            "image/png": "[encoded data removed]",
            "text/plain": "<matplotlib.figure.Figure at 0x7fbeda10f208>"
          },
          "metadata": {}
        }
      ]
    },
    {
      "metadata": {
        "trusted": true
      },
      "cell_type": "code",
      "source": "# Data Loader for easy mini-batch return in training, the image batch shape will be (50, 1, 28, 28)\ntrain_loader = Data.DataLoader(dataset=train_data, batch_size=BATCH_SIZE, shuffle=True)",
      "execution_count": 7,
      "outputs": []
    },
    {
      "metadata": {
        "trusted": true
      },
      "cell_type": "code",
      "source": "# convert test data into Variable, pick 2000 samples to speed up testing\ntest_data = torchvision.datasets.MNIST(root='./mnist/', train=False)\ntest_x = Variable(torch.unsqueeze(test_data.test_data, dim=1)).type(torch.FloatTensor)[:2000]/255.   # shape from (2000, 28, 28) to (2000, 1, 28, 28), value in range(0,1)\ntest_y = test_data.test_labels[:2000]",
      "execution_count": 8,
      "outputs": []
    },
    {
      "metadata": {
        "trusted": true
      },
      "cell_type": "code",
      "source": "class CNN(nn.Module):\n    def __init__(self):\n        super(CNN, self).__init__()\n        self.conv1 = nn.Sequential(         # input shape (1, 28, 28)\n            nn.Conv2d(\n                in_channels=1,              # input height\n                out_channels=16,            # n_filters\n                kernel_size=5,              # filter size\n                stride=1,                   # filter movement/step\n                padding=2,                  # if want same width and length of this image after con2d, padding=(kernel_size-1)/2 if stride=1\n            ),                              # output shape (16, 28, 28)\n            nn.ReLU(),                      # activation\n            nn.MaxPool2d(kernel_size=2),    # choose max value in 2x2 area, output shape (16, 14, 14)\n        )\n        self.conv2 = nn.Sequential(         # input shape (1, 28, 28)\n            nn.Conv2d(16, 32, 5, 1, 2),     # output shape (32, 14, 14)\n            nn.ReLU(),                      # activation\n            nn.MaxPool2d(2),                # output shape (32, 7, 7)\n        )\n        self.out = nn.Linear(32 * 7 * 7, 10)   # fully connected layer, output 10 classes\n\n    def forward(self, x):\n        x = self.conv1(x)\n        x = self.conv2(x)\n        x = x.view(x.size(0), -1)           # flatten the output of conv2 to (batch_size, 32 * 7 * 7)\n        output = self.out(x)\n        return output, x    # return x for visualization",
      "execution_count": 9,
      "outputs": []
    },
    {
      "metadata": {
        "trusted": true
      },
      "cell_type": "code",
      "source": "cnn = CNN()\nprint(cnn)  # net architecture",
      "execution_count": 10,
      "outputs": [
        {
          "output_type": "stream",
          "text": "CNN(\n  (conv1): Sequential(\n    (0): Conv2d(1, 16, kernel_size=(5, 5), stride=(1, 1), padding=(2, 2))\n    (1): ReLU()\n    (2): MaxPool2d(kernel_size=2, stride=2, padding=0, dilation=1, ceil_mode=False)\n  )\n  (conv2): Sequential(\n    (0): Conv2d(16, 32, kernel_size=(5, 5), stride=(1, 1), padding=(2, 2))\n    (1): ReLU()\n    (2): MaxPool2d(kernel_size=2, stride=2, padding=0, dilation=1, ceil_mode=False)\n  )\n  (out): Linear(in_features=1568, out_features=10, bias=True)\n)\n",
          "name": "stdout"
        }
      ]
    },
    {
      "metadata": {
        "trusted": true
      },
      "cell_type": "code",
      "source": "optimizer = torch.optim.Adam(cnn.parameters(), lr=LR)   # optimize all cnn parameters\nloss_func = nn.CrossEntropyLoss()                       # the target label is not one-hotted",
      "execution_count": 11,
      "outputs": []
    },
    {
      "metadata": {
        "scrolled": false,
        "trusted": true
      },
      "cell_type": "code",
      "source": "# following function (plot_with_labels) is for visualization, can be ignored if not interested\nfrom matplotlib import cm\ntry: from sklearn.manifold import TSNE; HAS_SK = True\nexcept: HAS_SK = False; print('Please install sklearn for layer visualization')\ndef plot_with_labels(lowDWeights, labels):\n    plt.cla()\n    X, Y = lowDWeights[:, 0], lowDWeights[:, 1]\n    for x, y, s in zip(X, Y, labels):\n        c = cm.rainbow(int(255 * s / 9)); plt.text(x, y, s, backgroundcolor=c, fontsize=9)\n    plt.xlim(X.min(), X.max()); plt.ylim(Y.min(), Y.max()); plt.title('Visualize last layer'); plt.show(); plt.pause(0.01)\n\nplt.ion()\n# training and testing\nfor epoch in range(EPOCH):\n    for step, (x, y) in enumerate(train_loader):   # gives batch data, normalize x when iterate train_loader\n        b_x = Variable(x)   # batch x\n        b_y = Variable(y)   # batch y\n\n        output = cnn(b_x)[0]               # cnn output\n        loss = loss_func(output, b_y)   # cross entropy loss\n        optimizer.zero_grad()           # clear gradients for this training step\n        loss.backward()                 # backpropagation, compute gradients\n        optimizer.step()                # apply gradients\n\n        if step % 100 == 0:\n            test_output, last_layer = cnn(test_x)\n            pred_y = torch.max(test_output, 1)[1].data.squeeze()\n            accuracy = (pred_y == test_y).sum().item() / float(test_y.size(0))\n            print('Epoch: ', epoch, '| train loss: %.4f' % loss.data[0], '| test accuracy: %.2f' % accuracy)\n            if HAS_SK:\n                # Visualization of trained flatten layer (T-SNE)\n                tsne = TSNE(perplexity=30, n_components=2, init='pca', n_iter=5000)\n                plot_only = 500\n                low_dim_embs = tsne.fit_transform(last_layer.data.numpy()[:plot_only, :])\n                labels = test_y.numpy()[:plot_only]\n                plot_with_labels(low_dim_embs, labels)\nplt.ioff()",
      "execution_count": null,
      "outputs": [
        {
          "output_type": "stream",
          "text": "/home/nbuser/anaconda3_420/lib/python3.5/site-packages/ipykernel/__main__.py:29: UserWarning: invalid index of a 0-dim tensor. This will be an error in PyTorch 0.5. Use tensor.item() to convert a 0-dim tensor to a Python number\n",
          "name": "stderr"
        },
        {
          "output_type": "stream",
          "text": "Epoch:  0 | train loss: 2.3105 | test accuracy: 0.06\n",
          "name": "stdout"
        },
        {
          "output_type": "display_data",
          "data": {
            "image/png": "[encoded data removed]",
            "text/plain": "<matplotlib.figure.Figure at 0x7fbede1eb908>"
          },
          "metadata": {}
        }
      ]
    },
    {
      "metadata": {
        "trusted": true
      },
      "cell_type": "code",
      "source": "# print 10 predictions from test data\ntest_output, _ = cnn(test_x[:10])\npred_y = torch.max(test_output, 1)[1].data.numpy().squeeze()\nprint(pred_y, 'prediction number')\nprint(test_y[:10].numpy(), 'real number')",
      "execution_count": null,
      "outputs": []
    },
    {
      "metadata": {
        "trusted": true
      },
      "cell_type": "code",
      "source": "",
      "execution_count": null,
      "outputs": []
    }
  ],
  "metadata": {
    "kernelspec": {
      "name": "python3",
      "display_name": "Python 3",
      "language": "python"
    },
    "language_info": {
      "mimetype": "text/x-python",
      "nbconvert_exporter": "python",
      "name": "python",
      "pygments_lexer": "ipython3",
      "version": "3.5.4",
      "file_extension": ".py",
      "codemirror_mode": {
        "version": 3,
        "name": "ipython"
      }
    }
  },
  "nbformat": 4,
  "nbformat_minor": 2
}