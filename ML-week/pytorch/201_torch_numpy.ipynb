{
  "cells": [
    {
      "metadata": {},
      "cell_type": "markdown",
      "source": "# 201 Torch and Numpy\n\nView more, visit my tutorial page: https://morvanzhou.github.io/tutorials/\nMy Youtube Channel: https://www.youtube.com/user/MorvanZhou\n\nDependencies:\n* torch: 0.1.11\n* numpy\n\nDetails about math operation in torch can be found in: http://pytorch.org/docs/torch.html#math-operations\n"
    },
    {
      "metadata": {
        "trusted": true
      },
      "cell_type": "code",
      "source": "import platform\nprint(platform.python_version())\n\n%load_ext watermark\n%watermark -a 'Gopala KR' -u -d -v -p watermark,numpy,pandas,scipy,scikit-learn,matplotlib,torch,tensorflow",
      "execution_count": 15,
      "outputs": [
        {
          "output_type": "stream",
          "text": "3.5.4\n",
          "name": "stdout"
        },
        {
          "output_type": "stream",
          "text": "/home/nbuser/anaconda3_420/lib/python3.5/site-packages/watermark/watermark.py:155: DeprecationWarning: Importing scikit-learn as `scikit-learn` has been depracated and will not be supported anymore in v1.7.0. Please use the package name `sklearn` instead.\n  DeprecationWarning)\n",
          "name": "stderr"
        },
        {
          "output_type": "stream",
          "text": "Gopala KR \nlast updated: 2018-09-23 \n\nCPython 3.5.4\nIPython 6.2.1\n\nwatermark 1.6.1\nnumpy 1.15.1\npandas 0.19.2\nscipy 1.1.0\nscikit-learn 0.19.1\nmatplotlib 2.1.1\ntorch 0.4.1\ntensorflow 1.1.0\n",
          "name": "stdout"
        }
      ]
    },
    {
      "metadata": {
        "trusted": true
      },
      "cell_type": "code",
      "source": "!pip install watermark\n",
      "execution_count": 14,
      "outputs": [
        {
          "output_type": "stream",
          "text": "Collecting watermark\n  Downloading https://files.pythonhosted.org/packages/91/67/8a54b9c29d875cd9ee1b17f81eec9c7c71788270819253fe7de4901e5847/watermark-1.6.1-py3-none-any.whl\nRequirement already satisfied: ipython in /home/nbuser/anaconda3_420/lib/python3.5/site-packages (from watermark) (6.2.1)\nRequirement already satisfied: setuptools>=18.5 in /home/nbuser/anaconda3_420/lib/python3.5/site-packages (from ipython->watermark) (40.4.1)\nRequirement already satisfied: jedi>=0.10 in /home/nbuser/anaconda3_420/lib/python3.5/site-packages (from ipython->watermark) (0.11.0)\nRequirement already satisfied: decorator in /home/nbuser/anaconda3_420/lib/python3.5/site-packages (from ipython->watermark) (4.0.10)\nRequirement already satisfied: pickleshare in /home/nbuser/anaconda3_420/lib/python3.5/site-packages (from ipython->watermark) (0.7.4)\nRequirement already satisfied: simplegeneric>0.8 in /home/nbuser/anaconda3_420/lib/python3.5/site-packages (from ipython->watermark) (0.8.1)\nRequirement already satisfied: traitlets>=4.2 in /home/nbuser/anaconda3_420/lib/python3.5/site-packages (from ipython->watermark) (4.3.1)\nRequirement already satisfied: prompt_toolkit<2.0.0,>=1.0.4 in /home/nbuser/anaconda3_420/lib/python3.5/site-packages (from ipython->watermark) (1.0.15)\nRequirement already satisfied: pygments in /home/nbuser/anaconda3_420/lib/python3.5/site-packages (from ipython->watermark) (2.1.3)\nRequirement already satisfied: pexpect in /home/nbuser/anaconda3_420/lib/python3.5/site-packages (from ipython->watermark) (4.0.1)\nRequirement already satisfied: parso==0.1.* in /home/nbuser/anaconda3_420/lib/python3.5/site-packages (from jedi>=0.10->ipython->watermark) (0.1.1)\nRequirement already satisfied: six>=1.9.0 in /home/nbuser/anaconda3_420/lib/python3.5/site-packages (from prompt_toolkit<2.0.0,>=1.0.4->ipython->watermark) (1.11.0)\nRequirement already satisfied: wcwidth in /home/nbuser/anaconda3_420/lib/python3.5/site-packages (from prompt_toolkit<2.0.0,>=1.0.4->ipython->watermark) (0.1.7)\nInstalling collected packages: watermark\nSuccessfully installed watermark-1.6.1\n",
          "name": "stdout"
        }
      ]
    },
    {
      "metadata": {
        "trusted": true
      },
      "cell_type": "code",
      "source": "import torch\nimport numpy as np",
      "execution_count": 1,
      "outputs": []
    },
    {
      "metadata": {
        "trusted": true
      },
      "cell_type": "code",
      "source": "# convert numpy to tensor or vise versa\nnp_data = np.arange(6).reshape((2, 3))\ntorch_data = torch.from_numpy(np_data)\ntensor2array = torch_data.numpy()\nprint(\n    '\\nnumpy array:', np_data,          # [[0 1 2], [3 4 5]]\n    '\\ntorch tensor:', torch_data,      #  0  1  2 \\n 3  4  5    [torch.LongTensor of size 2x3]\n    '\\ntensor to array:', tensor2array, # [[0 1 2], [3 4 5]]\n)",
      "execution_count": 2,
      "outputs": [
        {
          "output_type": "stream",
          "text": "\nnumpy array: [[0 1 2]\n [3 4 5]] \ntorch tensor: tensor([[0, 1, 2],\n        [3, 4, 5]]) \ntensor to array: [[0 1 2]\n [3 4 5]]\n",
          "name": "stdout"
        }
      ]
    },
    {
      "metadata": {
        "trusted": true
      },
      "cell_type": "code",
      "source": "# abs\ndata = [-1, -2, 1, 2]\ntensor = torch.FloatTensor(data)  # 32-bit floating point\nprint(\n    '\\nabs',\n    '\\nnumpy: ', np.abs(data),          # [1 2 1 2]\n    '\\ntorch: ', torch.abs(tensor)      # [1 2 1 2]\n)",
      "execution_count": 3,
      "outputs": [
        {
          "output_type": "stream",
          "text": "\nabs \nnumpy:  [1 2 1 2] \ntorch:  tensor([1., 2., 1., 2.])\n",
          "name": "stdout"
        }
      ]
    },
    {
      "metadata": {
        "trusted": true
      },
      "cell_type": "code",
      "source": "tensor.abs()",
      "execution_count": 4,
      "outputs": [
        {
          "output_type": "execute_result",
          "execution_count": 4,
          "data": {
            "text/plain": "tensor([1., 2., 1., 2.])"
          },
          "metadata": {}
        }
      ]
    },
    {
      "metadata": {
        "trusted": true
      },
      "cell_type": "code",
      "source": "# sin\nprint(\n    '\\nsin',\n    '\\nnumpy: ', np.sin(data),      # [-0.84147098 -0.90929743  0.84147098  0.90929743]\n    '\\ntorch: ', torch.sin(tensor)  # [-0.8415 -0.9093  0.8415  0.9093]\n)",
      "execution_count": 5,
      "outputs": [
        {
          "output_type": "stream",
          "text": "\nsin \nnumpy:  [-0.84147098 -0.90929743  0.84147098  0.90929743] \ntorch:  tensor([-0.8415, -0.9093,  0.8415,  0.9093])\n",
          "name": "stdout"
        }
      ]
    },
    {
      "metadata": {
        "trusted": true
      },
      "cell_type": "code",
      "source": "tensor.sigmoid()",
      "execution_count": 6,
      "outputs": [
        {
          "output_type": "execute_result",
          "execution_count": 6,
          "data": {
            "text/plain": "tensor([0.2689, 0.1192, 0.7311, 0.8808])"
          },
          "metadata": {}
        }
      ]
    },
    {
      "metadata": {
        "trusted": true
      },
      "cell_type": "code",
      "source": "tensor.exp()",
      "execution_count": 7,
      "outputs": [
        {
          "output_type": "execute_result",
          "execution_count": 7,
          "data": {
            "text/plain": "tensor([0.3679, 0.1353, 2.7183, 7.3891])"
          },
          "metadata": {}
        }
      ]
    },
    {
      "metadata": {
        "trusted": true
      },
      "cell_type": "code",
      "source": "# mean\nprint(\n    '\\nmean',\n    '\\nnumpy: ', np.mean(data),         # 0.0\n    '\\ntorch: ', torch.mean(tensor)     # 0.0\n)",
      "execution_count": 8,
      "outputs": [
        {
          "output_type": "stream",
          "text": "\nmean \nnumpy:  0.0 \ntorch:  tensor(0.)\n",
          "name": "stdout"
        }
      ]
    },
    {
      "metadata": {
        "trusted": true
      },
      "cell_type": "code",
      "source": "# matrix multiplication\ndata = [[1,2], [3,4]]\ntensor = torch.FloatTensor(data)  # 32-bit floating point\n# correct method\nprint(\n    '\\nmatrix multiplication (matmul)',\n    '\\nnumpy: ', np.matmul(data, data),     # [[7, 10], [15, 22]]\n    '\\ntorch: ', torch.mm(tensor, tensor)   # [[7, 10], [15, 22]]\n)",
      "execution_count": 9,
      "outputs": [
        {
          "output_type": "stream",
          "text": "\nmatrix multiplication (matmul) \nnumpy:  [[ 7 10]\n [15 22]] \ntorch:  tensor([[ 7., 10.],\n        [15., 22.]])\n",
          "name": "stdout"
        }
      ]
    },
    {
      "metadata": {
        "trusted": true
      },
      "cell_type": "code",
      "source": "# incorrect method\ndata = np.array(data)\ntensor = torch.Tensor([1,2,3,4]\nprint(\n    '\\nmatrix multiplication (dot)',\n    '\\nnumpy: ', data.dot(data),        # [[7, 10], [15, 22]]\n    '\\ntorch: ', torch.dot(tensor.dot(tensor)     # 30.0. Beware that torch.dot does not broadcast, only works for 1-dimensional tensor\n)",
      "execution_count": 10,
      "outputs": [
        {
          "output_type": "error",
          "ename": "SyntaxError",
          "evalue": "invalid syntax (<ipython-input-10-05c36c28cb47>, line 4)",
          "traceback": [
            "\u001b[0;36m  File \u001b[0;32m\"<ipython-input-10-05c36c28cb47>\"\u001b[0;36m, line \u001b[0;32m4\u001b[0m\n\u001b[0;31m    print(\u001b[0m\n\u001b[0m        ^\u001b[0m\n\u001b[0;31mSyntaxError\u001b[0m\u001b[0;31m:\u001b[0m invalid syntax\n"
          ]
        }
      ]
    },
    {
      "metadata": {},
      "cell_type": "markdown",
      "source": "Note that:\n\ntorch.dot(tensor1, tensor2) → float\n\nComputes the dot product (inner product) of two tensors. Both tensors are treated as 1-D vectors."
    },
    {
      "metadata": {
        "trusted": true
      },
      "cell_type": "code",
      "source": "tensor.mm(tensor)",
      "execution_count": 11,
      "outputs": [
        {
          "output_type": "execute_result",
          "execution_count": 11,
          "data": {
            "text/plain": "tensor([[ 7., 10.],\n        [15., 22.]])"
          },
          "metadata": {}
        }
      ]
    },
    {
      "metadata": {
        "trusted": true
      },
      "cell_type": "code",
      "source": "tensor * tensor",
      "execution_count": 12,
      "outputs": [
        {
          "output_type": "execute_result",
          "execution_count": 12,
          "data": {
            "text/plain": "tensor([[ 1.,  4.],\n        [ 9., 16.]])"
          },
          "metadata": {}
        }
      ]
    },
    {
      "metadata": {
        "trusted": true
      },
      "cell_type": "code",
      "source": "torch.dot(torch.Tensor([2, 3]), torch.Tensor([2, 1]))",
      "execution_count": 13,
      "outputs": [
        {
          "output_type": "execute_result",
          "execution_count": 13,
          "data": {
            "text/plain": "tensor(7.)"
          },
          "metadata": {}
        }
      ]
    },
    {
      "metadata": {
        "collapsed": true,
        "trusted": false
      },
      "cell_type": "code",
      "source": "",
      "execution_count": null,
      "outputs": []
    }
  ],
  "metadata": {
    "kernelspec": {
      "name": "python3",
      "display_name": "Python 3",
      "language": "python"
    },
    "language_info": {
      "mimetype": "text/x-python",
      "nbconvert_exporter": "python",
      "name": "python",
      "pygments_lexer": "ipython3",
      "version": "3.5.4",
      "file_extension": ".py",
      "codemirror_mode": {
        "version": 3,
        "name": "ipython"
      }
    }
  },
  "nbformat": 4,
  "nbformat_minor": 2
}