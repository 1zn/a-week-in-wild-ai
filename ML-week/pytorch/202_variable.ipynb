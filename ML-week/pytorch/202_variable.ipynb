{
  "cells": [
    {
      "metadata": {},
      "cell_type": "markdown",
      "source": "# 202 Variable\n\nView more, visit my tutorial page: https://morvanzhou.github.io/tutorials/\nMy Youtube Channel: https://www.youtube.com/user/MorvanZhou\n\nDependencies:\n* torch: 0.1.11\n\nVariable in torch is to build a computational graph,\nbut this graph is dynamic compared with a static graph in Tensorflow or Theano.\nSo torch does not have placeholder, torch can just pass variable to the computational graph.\n"
    },
    {
      "metadata": {
        "trusted": true
      },
      "cell_type": "code",
      "source": "import platform\nprint(platform.python_version())\n\n%load_ext watermark\n%watermark -a 'Gopala KR' -u -d -v -p watermark,numpy,pandas,scipy,scikit-learn,matplotlib,torch,tensorflow",
      "execution_count": 1,
      "outputs": [
        {
          "output_type": "stream",
          "text": "3.5.4\n",
          "name": "stdout"
        },
        {
          "output_type": "stream",
          "text": "/home/nbuser/anaconda3_420/lib/python3.5/site-packages/watermark/watermark.py:155: DeprecationWarning: Importing scikit-learn as `scikit-learn` has been depracated and will not be supported anymore in v1.7.0. Please use the package name `sklearn` instead.\n  DeprecationWarning)\n",
          "name": "stderr"
        },
        {
          "output_type": "stream",
          "text": "Gopala KR \nlast updated: 2018-09-23 \n\nCPython 3.5.4\nIPython 6.2.1\n\nwatermark 1.6.1\nnumpy 1.15.1\npandas 0.19.2\nscipy 1.1.0\nscikit-learn 0.19.1\nmatplotlib 2.1.1\ntorch 0.4.1\ntensorflow 1.1.0\n",
          "name": "stdout"
        }
      ]
    },
    {
      "metadata": {
        "trusted": true
      },
      "cell_type": "code",
      "source": "import torch\nfrom torch.autograd import Variable",
      "execution_count": 2,
      "outputs": []
    },
    {
      "metadata": {
        "trusted": true
      },
      "cell_type": "code",
      "source": "tensor = torch.FloatTensor([[1,2],[3,4]])            # build a tensor\nvariable = Variable(tensor, requires_grad=True)      # build a variable, usually for compute gradients\n\nprint(tensor)       # [torch.FloatTensor of size 2x2]\nprint(variable)     # [torch.FloatTensor of size 2x2]",
      "execution_count": 3,
      "outputs": [
        {
          "output_type": "stream",
          "text": "tensor([[1., 2.],\n        [3., 4.]])\ntensor([[1., 2.],\n        [3., 4.]], requires_grad=True)\n",
          "name": "stdout"
        }
      ]
    },
    {
      "metadata": {},
      "cell_type": "markdown",
      "source": "Till now the tensor and variable seem the same.\n\nHowever, the variable is a part of the graph, it's a part of the auto-gradient.\n"
    },
    {
      "metadata": {
        "trusted": true
      },
      "cell_type": "code",
      "source": "t_out = torch.mean(tensor*tensor)       # x^2\nv_out = torch.mean(variable*variable)   # x^2\nprint(t_out)\nprint(v_out)",
      "execution_count": 4,
      "outputs": [
        {
          "output_type": "stream",
          "text": "tensor(7.5000)\ntensor(7.5000, grad_fn=<MeanBackward1>)\n",
          "name": "stdout"
        }
      ]
    },
    {
      "metadata": {
        "trusted": true
      },
      "cell_type": "code",
      "source": "v_out.backward()    # backpropagation from v_out",
      "execution_count": 5,
      "outputs": []
    },
    {
      "metadata": {},
      "cell_type": "markdown",
      "source": "$$ v_{out} = {{1} \\over {4}} sum(variable^2) $$\n\nthe gradients w.r.t the variable, \n\n$$ {d(v_{out}) \\over d(variable)} = {{1} \\over {4}} 2 variable = {variable \\over 2}$$\n\nlet's check the result pytorch calculated for us below:"
    },
    {
      "metadata": {
        "trusted": true
      },
      "cell_type": "code",
      "source": "variable.grad",
      "execution_count": 6,
      "outputs": [
        {
          "output_type": "execute_result",
          "execution_count": 6,
          "data": {
            "text/plain": "tensor([[0.5000, 1.0000],\n        [1.5000, 2.0000]])"
          },
          "metadata": {}
        }
      ]
    },
    {
      "metadata": {
        "trusted": true
      },
      "cell_type": "code",
      "source": "variable # this is data in variable format",
      "execution_count": 7,
      "outputs": [
        {
          "output_type": "execute_result",
          "execution_count": 7,
          "data": {
            "text/plain": "tensor([[1., 2.],\n        [3., 4.]], requires_grad=True)"
          },
          "metadata": {}
        }
      ]
    },
    {
      "metadata": {
        "trusted": true
      },
      "cell_type": "code",
      "source": "variable.data # this is data in tensor format",
      "execution_count": 8,
      "outputs": [
        {
          "output_type": "execute_result",
          "execution_count": 8,
          "data": {
            "text/plain": "tensor([[1., 2.],\n        [3., 4.]])"
          },
          "metadata": {}
        }
      ]
    },
    {
      "metadata": {
        "trusted": true
      },
      "cell_type": "code",
      "source": "variable.data.numpy() # numpy format",
      "execution_count": 9,
      "outputs": [
        {
          "output_type": "execute_result",
          "execution_count": 9,
          "data": {
            "text/plain": "array([[1., 2.],\n       [3., 4.]], dtype=float32)"
          },
          "metadata": {}
        }
      ]
    },
    {
      "metadata": {},
      "cell_type": "markdown",
      "source": "Note that we did `.backward()` on `v_out` but `variable` has been assigned new values on it's `grad`.\n\nAs this line \n```\nv_out = torch.mean(variable*variable)\n``` \nwill make a new variable `v_out` and connect it with `variable` in computation graph."
    },
    {
      "metadata": {
        "trusted": true
      },
      "cell_type": "code",
      "source": "type(v_out)",
      "execution_count": 10,
      "outputs": [
        {
          "output_type": "execute_result",
          "execution_count": 10,
          "data": {
            "text/plain": "torch.Tensor"
          },
          "metadata": {}
        }
      ]
    },
    {
      "metadata": {
        "trusted": true
      },
      "cell_type": "code",
      "source": "type(v_out.data)",
      "execution_count": 11,
      "outputs": [
        {
          "output_type": "execute_result",
          "execution_count": 11,
          "data": {
            "text/plain": "torch.Tensor"
          },
          "metadata": {}
        }
      ]
    },
    {
      "metadata": {
        "trusted": true
      },
      "cell_type": "code",
      "source": "",
      "execution_count": null,
      "outputs": []
    },
    {
      "metadata": {
        "trusted": true
      },
      "cell_type": "code",
      "source": "",
      "execution_count": null,
      "outputs": []
    }
  ],
  "metadata": {
    "kernelspec": {
      "name": "python3",
      "display_name": "Python 3",
      "language": "python"
    },
    "language_info": {
      "mimetype": "text/x-python",
      "nbconvert_exporter": "python",
      "name": "python",
      "pygments_lexer": "ipython3",
      "version": "3.5.4",
      "file_extension": ".py",
      "codemirror_mode": {
        "version": 3,
        "name": "ipython"
      }
    }
  },
  "nbformat": 4,
  "nbformat_minor": 2
}