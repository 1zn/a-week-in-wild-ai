{
  "cells": [
    {
      "metadata": {},
      "cell_type": "markdown",
      "source": "# 304 Save and Reload\n\n\"\"\"\nView more, visit my tutorial page: https://morvanzhou.github.io/tutorials/\nMy Youtube Channel: https://www.youtube.com/user/MorvanZhou\n\nDependencies:\n* torch: 0.1.11\n* matplotlib"
    },
    {
      "metadata": {
        "trusted": true
      },
      "cell_type": "code",
      "source": "import platform\nprint(platform.python_version())\n\n%load_ext watermark\n%watermark -a 'Gopala KR' -u -d -v -p watermark,numpy,pandas,scipy,scikit-learn,matplotlib,torch,tensorflow",
      "execution_count": 1,
      "outputs": [
        {
          "output_type": "stream",
          "text": "3.5.4\n",
          "name": "stdout"
        },
        {
          "output_type": "stream",
          "text": "/home/nbuser/anaconda3_420/lib/python3.5/site-packages/watermark/watermark.py:155: DeprecationWarning: Importing scikit-learn as `scikit-learn` has been depracated and will not be supported anymore in v1.7.0. Please use the package name `sklearn` instead.\n  DeprecationWarning)\n",
          "name": "stderr"
        },
        {
          "output_type": "stream",
          "text": "Gopala KR \nlast updated: 2018-09-23 \n\nCPython 3.5.4\nIPython 6.2.1\n\nwatermark 1.6.1\nnumpy 1.15.1\npandas 0.19.2\nscipy 1.1.0\nscikit-learn 0.19.1\nmatplotlib 2.1.1\ntorch 0.4.1\ntensorflow 1.1.0\n",
          "name": "stdout"
        }
      ]
    },
    {
      "metadata": {
        "trusted": true
      },
      "cell_type": "code",
      "source": "import torch\nfrom torch.autograd import Variable\nimport matplotlib.pyplot as plt\n%matplotlib inline\n\ntorch.manual_seed(1)    # reproducible",
      "execution_count": 2,
      "outputs": [
        {
          "output_type": "execute_result",
          "execution_count": 2,
          "data": {
            "text/plain": "<torch._C.Generator at 0x7ffb536b32f0>"
          },
          "metadata": {}
        }
      ]
    },
    {
      "metadata": {},
      "cell_type": "markdown",
      "source": "### Generate some fake data"
    },
    {
      "metadata": {
        "trusted": true
      },
      "cell_type": "code",
      "source": "x = torch.unsqueeze(torch.linspace(-1, 1, 100), dim=1)  # x data (tensor), shape=(100, 1)\ny = x.pow(2) + 0.2*torch.rand(x.size())  # noisy y data (tensor), shape=(100, 1)\nx, y = Variable(x, requires_grad=False), Variable(y, requires_grad=False)\n",
      "execution_count": 3,
      "outputs": []
    },
    {
      "metadata": {
        "trusted": true
      },
      "cell_type": "code",
      "source": "def save():\n    # save net1\n    net1 = torch.nn.Sequential(\n        torch.nn.Linear(1, 10),\n        torch.nn.ReLU(),\n        torch.nn.Linear(10, 1)\n    )\n    optimizer = torch.optim.SGD(net1.parameters(), lr=0.5)\n    loss_func = torch.nn.MSELoss()\n\n    for t in range(100):\n        prediction = net1(x)\n        loss = loss_func(prediction, y)\n        optimizer.zero_grad()\n        loss.backward()\n        optimizer.step()\n\n    # plot result\n    plt.figure(1, figsize=(10, 3))\n    plt.subplot(131)\n    plt.title('Net1')\n    plt.scatter(x.data.numpy(), y.data.numpy())\n    plt.plot(x.data.numpy(), prediction.data.numpy(), 'r-', lw=5)\n\n    # 2 ways to save the net\n    torch.save(net1, 'net.pkl')  # save entire net\n    torch.save(net1.state_dict(), 'net_params.pkl')   # save only the parameters",
      "execution_count": 4,
      "outputs": []
    },
    {
      "metadata": {
        "trusted": true
      },
      "cell_type": "code",
      "source": "def restore_net():\n    # restore entire net1 to net2\n    net2 = torch.load('net.pkl')\n    prediction = net2(x)\n\n    # plot result\n    plt.subplot(132)\n    plt.title('Net2')\n    plt.scatter(x.data.numpy(), y.data.numpy())\n    plt.plot(x.data.numpy(), prediction.data.numpy(), 'r-', lw=5)\n",
      "execution_count": 5,
      "outputs": []
    },
    {
      "metadata": {
        "trusted": true
      },
      "cell_type": "code",
      "source": "def restore_params():\n    # restore only the parameters in net1 to net3\n    net3 = torch.nn.Sequential(\n        torch.nn.Linear(1, 10),\n        torch.nn.ReLU(),\n        torch.nn.Linear(10, 1)\n    )\n\n    # copy net1's parameters into net3\n    net3.load_state_dict(torch.load('net_params.pkl'))\n    prediction = net3(x)\n\n    # plot result\n    plt.subplot(133)\n    plt.title('Net3')\n    plt.scatter(x.data.numpy(), y.data.numpy())\n    plt.plot(x.data.numpy(), prediction.data.numpy(), 'r-', lw=5)\n    plt.show()",
      "execution_count": 6,
      "outputs": []
    },
    {
      "metadata": {
        "trusted": true
      },
      "cell_type": "code",
      "source": "# save net1\nsave()\n# restore entire net (may slow)\nrestore_net()\n# restore only the net parameters\nrestore_params()",
      "execution_count": 7,
      "outputs": [
        {
          "output_type": "display_data",
          "data": {
            "image/png": "[encoded data removed]",
            "text/plain": "<matplotlib.figure.Figure at 0x7ffb4ffee5c0>"
          },
          "metadata": {}
        }
      ]
    },
    {
      "metadata": {
        "collapsed": true,
        "trusted": false
      },
      "cell_type": "code",
      "source": "",
      "execution_count": null,
      "outputs": []
    }
  ],
  "metadata": {
    "kernelspec": {
      "name": "python3",
      "display_name": "Python 3",
      "language": "python"
    },
    "language_info": {
      "mimetype": "text/x-python",
      "nbconvert_exporter": "python",
      "name": "python",
      "pygments_lexer": "ipython3",
      "version": "3.5.4",
      "file_extension": ".py",
      "codemirror_mode": {
        "version": 3,
        "name": "ipython"
      }
    }
  },
  "nbformat": 4,
  "nbformat_minor": 2
}