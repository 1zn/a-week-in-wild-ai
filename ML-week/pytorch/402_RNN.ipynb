{
  "cells": [
    {
      "metadata": {},
      "cell_type": "markdown",
      "source": "# 402 RNN\n\nView more, visit my tutorial page: https://morvanzhou.github.io/tutorials/\nMy Youtube Channel: https://www.youtube.com/user/MorvanZhou\n\nDependencies:\n* torch: 0.1.11\n* matplotlib\n"
    },
    {
      "metadata": {
        "trusted": true
      },
      "cell_type": "code",
      "source": "import platform\nprint(platform.python_version())\n\n%load_ext watermark\n%watermark -a 'Gopala KR' -u -d -v -p watermark,numpy,pandas,scipy,scikit-learn,matplotlib,torch,tensorflow",
      "execution_count": 1,
      "outputs": [
        {
          "output_type": "stream",
          "text": "3.5.4\n",
          "name": "stdout"
        },
        {
          "output_type": "stream",
          "text": "/home/nbuser/anaconda3_420/lib/python3.5/site-packages/watermark/watermark.py:155: DeprecationWarning: Importing scikit-learn as `scikit-learn` has been depracated and will not be supported anymore in v1.7.0. Please use the package name `sklearn` instead.\n  DeprecationWarning)\n",
          "name": "stderr"
        },
        {
          "output_type": "stream",
          "text": "Gopala KR \nlast updated: 2018-09-23 \n\nCPython 3.5.4\nIPython 6.2.1\n\nwatermark 1.6.1\nnumpy 1.15.1\npandas 0.19.2\nscipy 1.1.0\nscikit-learn 0.19.1\nmatplotlib 2.1.1\ntorch 0.4.1\ntensorflow 1.1.0\n",
          "name": "stdout"
        }
      ]
    },
    {
      "metadata": {
        "trusted": true
      },
      "cell_type": "code",
      "source": "import torch\nfrom torch import nn\nfrom torch.autograd import Variable\nimport torchvision.datasets as dsets\nimport torchvision.transforms as transforms\nimport matplotlib.pyplot as plt\n%matplotlib inline",
      "execution_count": 2,
      "outputs": [
        {
          "output_type": "stream",
          "text": "/home/nbuser/anaconda3_420/lib/python3.5/site-packages/urllib3/contrib/pyopenssl.py:46: DeprecationWarning: OpenSSL.rand is deprecated - you should use os.urandom instead\n  import OpenSSL.SSL\n/home/nbuser/anaconda3_420/lib/python3.5/site-packages/urllib3/contrib/pyopenssl.py:51: DeprecationWarning: UnsupportedExtension is no longer necessary, it is never raised\n  from cryptography.x509 import UnsupportedExtension\n/home/nbuser/anaconda3_420/lib/python3.5/site-packages/urllib3/contrib/pyopenssl.py:51: DeprecationWarning: UnsupportedExtension is no longer necessary, it is never raised\n  from cryptography.x509 import UnsupportedExtension\n",
          "name": "stderr"
        }
      ]
    },
    {
      "metadata": {
        "trusted": true
      },
      "cell_type": "code",
      "source": "torch.manual_seed(1)    # reproducible",
      "execution_count": 3,
      "outputs": [
        {
          "output_type": "execute_result",
          "execution_count": 3,
          "data": {
            "text/plain": "<torch._C.Generator at 0x7fc7cf5352b0>"
          },
          "metadata": {}
        }
      ]
    },
    {
      "metadata": {
        "trusted": true
      },
      "cell_type": "code",
      "source": "# Hyper Parameters\nEPOCH = 1               # train the training data n times, to save time, we just train 1 epoch\nBATCH_SIZE = 64\nTIME_STEP = 28          # rnn time step / image height\nINPUT_SIZE = 28         # rnn input size / image width\nLR = 0.01               # learning rate\nDOWNLOAD_MNIST = True   # set to True if haven't download the data",
      "execution_count": 4,
      "outputs": []
    },
    {
      "metadata": {
        "trusted": true
      },
      "cell_type": "code",
      "source": "# Mnist digital dataset\ntrain_data = dsets.MNIST(\n    root='./mnist/',\n    train=True,                         # this is training data\n    transform=transforms.ToTensor(),    # Converts a PIL.Image or numpy.ndarray to\n                                        # torch.FloatTensor of shape (C x H x W) and normalize in the range [0.0, 1.0]\n    download=DOWNLOAD_MNIST,            # download it if you don't have it\n)",
      "execution_count": 5,
      "outputs": []
    },
    {
      "metadata": {
        "trusted": true
      },
      "cell_type": "code",
      "source": "# plot one example\nprint(train_data.train_data.size())     # (60000, 28, 28)\nprint(train_data.train_labels.size())   # (60000)\nplt.imshow(train_data.train_data[0].numpy(), cmap='gray')\nplt.title('%i' % train_data.train_labels[0])\nplt.show()",
      "execution_count": 6,
      "outputs": [
        {
          "output_type": "stream",
          "text": "torch.Size([60000, 28, 28])\ntorch.Size([60000])\n",
          "name": "stdout"
        },
        {
          "output_type": "display_data",
          "data": {
            "image/png": "[encoded data removed]",
            "text/plain": "<matplotlib.figure.Figure at 0x7fc7cb4f4240>"
          },
          "metadata": {}
        }
      ]
    },
    {
      "metadata": {
        "trusted": true
      },
      "cell_type": "code",
      "source": "# Data Loader for easy mini-batch return in training\ntrain_loader = torch.utils.data.DataLoader(dataset=train_data, batch_size=BATCH_SIZE, shuffle=True)",
      "execution_count": 7,
      "outputs": []
    },
    {
      "metadata": {
        "trusted": true
      },
      "cell_type": "code",
      "source": "# convert test data into Variable, pick 2000 samples to speed up testing\ntest_data = dsets.MNIST(root='./mnist/', train=False, transform=transforms.ToTensor())\ntest_x = Variable(test_data.test_data, volatile=True).type(torch.FloatTensor)[:2000]/255.   # shape (2000, 28, 28) value in range(0,1)\ntest_y = test_data.test_labels.numpy().squeeze()[:2000]    # covert to numpy array",
      "execution_count": 8,
      "outputs": [
        {
          "output_type": "stream",
          "text": "/home/nbuser/anaconda3_420/lib/python3.5/site-packages/ipykernel/__main__.py:3: UserWarning: volatile was removed and now has no effect. Use `with torch.no_grad():` instead.\n  app.launch_new_instance()\n",
          "name": "stderr"
        }
      ]
    },
    {
      "metadata": {
        "trusted": true
      },
      "cell_type": "code",
      "source": "class RNN(nn.Module):\n    def __init__(self):\n        super(RNN, self).__init__()\n\n        self.rnn = nn.LSTM(         # if use nn.RNN(), it hardly learns\n            input_size=INPUT_SIZE,\n            hidden_size=64,         # rnn hidden unit\n            num_layers=1,           # number of rnn layer\n            batch_first=True,       # input & output will has batch size as 1s dimension. e.g. (batch, time_step, input_size)\n        )\n\n        self.out = nn.Linear(64, 10)\n\n    def forward(self, x):\n        # x shape (batch, time_step, input_size)\n        # r_out shape (batch, time_step, output_size)\n        # h_n shape (n_layers, batch, hidden_size)\n        # h_c shape (n_layers, batch, hidden_size)\n        r_out, (h_n, h_c) = self.rnn(x, None)   # None represents zero initial hidden state\n\n        # choose r_out at the last time step\n        out = self.out(r_out[:, -1, :])\n        return out",
      "execution_count": 9,
      "outputs": []
    },
    {
      "metadata": {
        "trusted": true
      },
      "cell_type": "code",
      "source": "rnn = RNN()\nprint(rnn)",
      "execution_count": 10,
      "outputs": [
        {
          "output_type": "stream",
          "text": "RNN(\n  (rnn): LSTM(28, 64, batch_first=True)\n  (out): Linear(in_features=64, out_features=10, bias=True)\n)\n",
          "name": "stdout"
        }
      ]
    },
    {
      "metadata": {
        "trusted": true
      },
      "cell_type": "code",
      "source": "optimizer = torch.optim.Adam(rnn.parameters(), lr=LR)   # optimize all cnn parameters\nloss_func = nn.CrossEntropyLoss()                       # the target label is not one-hotted",
      "execution_count": 11,
      "outputs": []
    },
    {
      "metadata": {
        "trusted": true
      },
      "cell_type": "code",
      "source": "# training and testing\nfor epoch in range(EPOCH):\n    for step, (x, y) in enumerate(train_loader):        # gives batch data\n        b_x = Variable(x.view(-1, 28, 28))              # reshape x to (batch, time_step, input_size)\n        b_y = Variable(y)                               # batch y\n\n        output = rnn(b_x)                               # rnn output\n        loss = loss_func(output, b_y)                   # cross entropy loss\n        optimizer.zero_grad()                           # clear gradients for this training step\n        loss.backward()                                 # backpropagation, compute gradients\n        optimizer.step()                                # apply gradients\n\n        if step % 50 == 0:\n            test_output = rnn(test_x)                   # (samples, time_step, input_size)\n            pred_y = torch.max(test_output, 1)[1].data.numpy().squeeze()\n            accuracy = sum(pred_y == test_y) / float(test_y.size)\n            print('Epoch: ', epoch, '| train loss: %.4f' % loss.data[0], '| test accuracy: %.2f' % accuracy)\n",
      "execution_count": 12,
      "outputs": [
        {
          "output_type": "stream",
          "text": "/home/nbuser/anaconda3_420/lib/python3.5/site-packages/ipykernel/__main__.py:17: UserWarning: invalid index of a 0-dim tensor. This will be an error in PyTorch 0.5. Use tensor.item() to convert a 0-dim tensor to a Python number\n",
          "name": "stderr"
        },
        {
          "output_type": "stream",
          "text": "Epoch:  0 | train loss: 2.2883 | test accuracy: 0.10\nEpoch:  0 | train loss: 0.8551 | test accuracy: 0.58\nEpoch:  0 | train loss: 0.7077 | test accuracy: 0.76\nEpoch:  0 | train loss: 0.5048 | test accuracy: 0.84\nEpoch:  0 | train loss: 0.2345 | test accuracy: 0.87\nEpoch:  0 | train loss: 0.2884 | test accuracy: 0.86\nEpoch:  0 | train loss: 0.3034 | test accuracy: 0.90\nEpoch:  0 | train loss: 0.3591 | test accuracy: 0.94\nEpoch:  0 | train loss: 0.1614 | test accuracy: 0.93\nEpoch:  0 | train loss: 0.3214 | test accuracy: 0.94\nEpoch:  0 | train loss: 0.0711 | test accuracy: 0.94\nEpoch:  0 | train loss: 0.2591 | test accuracy: 0.95\nEpoch:  0 | train loss: 0.0241 | test accuracy: 0.95\nEpoch:  0 | train loss: 0.1306 | test accuracy: 0.94\nEpoch:  0 | train loss: 0.1993 | test accuracy: 0.95\nEpoch:  0 | train loss: 0.1246 | test accuracy: 0.96\nEpoch:  0 | train loss: 0.0993 | test accuracy: 0.95\nEpoch:  0 | train loss: 0.1358 | test accuracy: 0.96\nEpoch:  0 | train loss: 0.2395 | test accuracy: 0.96\n",
          "name": "stdout"
        }
      ]
    },
    {
      "metadata": {
        "trusted": true
      },
      "cell_type": "code",
      "source": "# print 10 predictions from test data\ntest_output = rnn(test_x[:10].view(-1, 28, 28))\npred_y = torch.max(test_output, 1)[1].data.numpy().squeeze()\nprint(pred_y, 'prediction number')\nprint(test_y[:10], 'real number')",
      "execution_count": 13,
      "outputs": [
        {
          "output_type": "stream",
          "text": "[7 2 1 0 4 1 4 9 5 9] prediction number\n[7 2 1 0 4 1 4 9 5 9] real number\n",
          "name": "stdout"
        }
      ]
    },
    {
      "metadata": {
        "collapsed": true,
        "trusted": false
      },
      "cell_type": "code",
      "source": "",
      "execution_count": null,
      "outputs": []
    }
  ],
  "metadata": {
    "kernelspec": {
      "name": "python3",
      "display_name": "Python 3",
      "language": "python"
    },
    "language_info": {
      "mimetype": "text/x-python",
      "nbconvert_exporter": "python",
      "name": "python",
      "file_extension": ".py",
      "version": "3.5.4",
      "pygments_lexer": "ipython3",
      "codemirror_mode": {
        "version": 3,
        "name": "ipython"
      }
    }
  },
  "nbformat": 4,
  "nbformat_minor": 2
}